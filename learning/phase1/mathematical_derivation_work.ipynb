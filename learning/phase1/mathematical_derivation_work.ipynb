{
 "cells": [
  {
   "cell_type": "markdown",
   "id": "eb5862b1",
   "metadata": {},
   "source": [
    "# Learning Phase 1: Mathematical Derivation\n",
    "\n",
    "For this I will be using the \"OPTIONS, FUTURES, AND OTHER DERIVATIVES\" book by John Hull\n",
    "\n",
    "## Chapter 14\n",
    "\n",
    "### 14.1 Markov Process\n",
    "\n",
    "The predictions for future prices of stocks are only dependent on the price of the stock now\n",
    "\n",
    "**Key insight:** The entire history of how the stock got to its current price is irrelevant for predicting future movements. Only the present price matters.\n",
    "\n",
    "**Why this matters:** This assumption dramatically simplifies mathematical modeling - we don't need to track the entire price history, just the current state.\n",
    "\n",
    "### 14.2 Continuous-Time Stochastic Processes\n",
    "\n",
    "**Core concept:** Uncertainty scales with the square root of time, not linearly with time.\n",
    "\n",
    "**Mathematical pattern:**\n",
    "- Time period T → variance = T, standard deviation = √T\n",
    "- 6 months: std dev = √0.5 ≈ 0.71\n",
    "- 1 year: std dev = √1.0 = 1.0\n",
    "- 2 years: std dev = √2.0 ≈ 1.41\n",
    "\n",
    "**Economic intuition:** Stock price uncertainty grows, but at a decreasing rate as time increases. This is why long-term options aren't proportionally more expensive than short-term ones.\n",
    "\n",
    "#### Wiener Process\n",
    "\n",
    "This is a type of markov stochastic proccess with a mean change of zero and a variance rate of 1 per year. It has been used in physics to descibe the motion of the particle that is subject to a large number of small molecular shocks. (Brownian Motion)\n",
    "\n",
    "$$\\Delta z = \\epsilon \\sqrt{\\Delta t}$$\n",
    "\n"
   ]
  }
 ],
 "metadata": {
  "language_info": {
   "name": "python"
  }
 },
 "nbformat": 4,
 "nbformat_minor": 5
}
